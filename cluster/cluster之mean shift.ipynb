{
 "cells": [
  {
   "cell_type": "markdown",
   "id": "a80860e9",
   "metadata": {},
   "source": [
    "# cluster之mean shift"
   ]
  },
  {
   "cell_type": "markdown",
   "id": "8be6be49",
   "metadata": {},
   "source": [
    "refs:\n",
    "\n",
    "[均值偏移（ mean shift ）](https://www.zhihu.com/question/67943169/answer/412092644)\n",
    "\n",
    "[机器学习聚类算法之Mean Shift](https://www.biaodianfu.com/mean-shift.html)\n",
    "\n",
    "[Meanshift](https://www.cnblogs.com/liqizhou/archive/2012/05/12/2497220.html)"
   ]
  },
  {
   "cell_type": "code",
   "execution_count": null,
   "id": "8ec29cd4",
   "metadata": {},
   "outputs": [],
   "source": []
  },
  {
   "cell_type": "code",
   "execution_count": null,
   "id": "43556679",
   "metadata": {},
   "outputs": [],
   "source": []
  },
  {
   "cell_type": "code",
   "execution_count": null,
   "id": "dec4f53c",
   "metadata": {
    "ExecuteTime": {
     "end_time": "2021-06-18T06:33:13.885750Z",
     "start_time": "2021-06-18T06:33:12.951836Z"
    }
   },
   "outputs": [],
   "source": []
  },
  {
   "cell_type": "code",
   "execution_count": null,
   "id": "3568ed01",
   "metadata": {},
   "outputs": [],
   "source": []
  }
 ],
 "metadata": {
  "kernelspec": {
   "display_name": "Python 3.7.10 64-bit ('object_tracking': conda)",
   "language": "python",
   "name": "python371064bitobjecttrackingconda66c6f2efc4d740808a4620e21504b8f3"
  },
  "toc": {
   "base_numbering": 1,
   "nav_menu": {},
   "number_sections": true,
   "sideBar": true,
   "skip_h1_title": false,
   "title_cell": "Table of Contents",
   "title_sidebar": "Contents",
   "toc_cell": false,
   "toc_position": {},
   "toc_section_display": true,
   "toc_window_display": false
  },
  "varInspector": {
   "cols": {
    "lenName": 16,
    "lenType": 16,
    "lenVar": 40
   },
   "kernels_config": {
    "python": {
     "delete_cmd_postfix": "",
     "delete_cmd_prefix": "del ",
     "library": "var_list.py",
     "varRefreshCmd": "print(var_dic_list())"
    },
    "r": {
     "delete_cmd_postfix": ") ",
     "delete_cmd_prefix": "rm(",
     "library": "var_list.r",
     "varRefreshCmd": "cat(var_dic_list()) "
    }
   },
   "types_to_exclude": [
    "module",
    "function",
    "builtin_function_or_method",
    "instance",
    "_Feature"
   ],
   "window_display": false
  }
 },
 "nbformat": 4,
 "nbformat_minor": 5
}
